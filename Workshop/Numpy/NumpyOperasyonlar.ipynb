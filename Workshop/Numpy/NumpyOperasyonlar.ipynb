{
 "cells": [
  {
   "cell_type": "code",
   "execution_count": 1,
   "id": "5105d125",
   "metadata": {},
   "outputs": [],
   "source": [
    "import numpy as np"
   ]
  },
  {
   "cell_type": "code",
   "execution_count": 3,
   "id": "a8f64f2f",
   "metadata": {},
   "outputs": [],
   "source": [
    "benimDizim=np.arange(15)"
   ]
  },
  {
   "cell_type": "code",
   "execution_count": 4,
   "id": "2e02d3d6",
   "metadata": {},
   "outputs": [
    {
     "data": {
      "text/plain": [
       "array([ 0,  1,  2,  3,  4,  5,  6,  7,  8,  9, 10, 11, 12, 13, 14])"
      ]
     },
     "execution_count": 4,
     "metadata": {},
     "output_type": "execute_result"
    }
   ],
   "source": [
    "benimDizim"
   ]
  },
  {
   "cell_type": "code",
   "execution_count": 5,
   "id": "10f58fab",
   "metadata": {},
   "outputs": [],
   "source": [
    "benimDizim[2:9]=-1"
   ]
  },
  {
   "cell_type": "code",
   "execution_count": 6,
   "id": "cd37f806",
   "metadata": {},
   "outputs": [
    {
     "data": {
      "text/plain": [
       "array([ 0,  1, -1, -1, -1, -1, -1, -1, -1,  9, 10, 11, 12, 13, 14])"
      ]
     },
     "execution_count": 6,
     "metadata": {},
     "output_type": "execute_result"
    }
   ],
   "source": [
    "benimDizim"
   ]
  },
  {
   "cell_type": "code",
   "execution_count": 7,
   "id": "6d940c96",
   "metadata": {},
   "outputs": [],
   "source": [
    "baskaDizi=np.arange(15)"
   ]
  },
  {
   "cell_type": "code",
   "execution_count": 8,
   "id": "81250d86",
   "metadata": {},
   "outputs": [],
   "source": [
    "slicingDizisi=baskaDizi[4:8]"
   ]
  },
  {
   "cell_type": "code",
   "execution_count": 9,
   "id": "be685e54",
   "metadata": {},
   "outputs": [],
   "source": [
    "slicingDizisi[:]=18"
   ]
  },
  {
   "cell_type": "code",
   "execution_count": 10,
   "id": "a5ce23aa",
   "metadata": {},
   "outputs": [
    {
     "data": {
      "text/plain": [
       "array([18, 18, 18, 18])"
      ]
     },
     "execution_count": 10,
     "metadata": {},
     "output_type": "execute_result"
    }
   ],
   "source": [
    "baskaDizi[4:8]"
   ]
  },
  {
   "cell_type": "code",
   "execution_count": 11,
   "id": "84126931",
   "metadata": {},
   "outputs": [
    {
     "data": {
      "text/plain": [
       "array([ 0,  1,  2,  3, 18, 18, 18, 18,  8,  9, 10, 11, 12, 13, 14])"
      ]
     },
     "execution_count": 11,
     "metadata": {},
     "output_type": "execute_result"
    }
   ],
   "source": [
    "baskaDizi"
   ]
  },
  {
   "cell_type": "markdown",
   "id": "b8d67f88",
   "metadata": {},
   "source": [
    "## matrix"
   ]
  },
  {
   "cell_type": "code",
   "execution_count": 12,
   "id": "5b88831f",
   "metadata": {},
   "outputs": [],
   "source": [
    "benimListem=[[5,7,9],[13,15,17],[7,24,25]]"
   ]
  },
  {
   "cell_type": "code",
   "execution_count": 13,
   "id": "17c9b6a8",
   "metadata": {},
   "outputs": [],
   "source": [
    "benimMatrixDizim=np.array(benimListem)"
   ]
  },
  {
   "cell_type": "code",
   "execution_count": 14,
   "id": "e8b6d08b",
   "metadata": {},
   "outputs": [
    {
     "data": {
      "text/plain": [
       "array([[ 5,  7,  9],\n",
       "       [13, 15, 17],\n",
       "       [ 7, 24, 25]])"
      ]
     },
     "execution_count": 14,
     "metadata": {},
     "output_type": "execute_result"
    }
   ],
   "source": [
    "benimMatrixDizim\n"
   ]
  },
  {
   "cell_type": "code",
   "execution_count": 15,
   "id": "02218c7e",
   "metadata": {},
   "outputs": [
    {
     "data": {
      "text/plain": [
       "17"
      ]
     },
     "execution_count": 15,
     "metadata": {},
     "output_type": "execute_result"
    }
   ],
   "source": [
    "benimMatrixDizim[1][2]"
   ]
  },
  {
   "cell_type": "code",
   "execution_count": 16,
   "id": "892d2a43",
   "metadata": {},
   "outputs": [
    {
     "data": {
      "text/plain": [
       "17"
      ]
     },
     "execution_count": 16,
     "metadata": {},
     "output_type": "execute_result"
    }
   ],
   "source": [
    "benimMatrixDizim[1,2]"
   ]
  },
  {
   "cell_type": "code",
   "execution_count": 24,
   "id": "4ad7b7b2",
   "metadata": {},
   "outputs": [
    {
     "data": {
      "text/plain": [
       "array([15, 24])"
      ]
     },
     "execution_count": 24,
     "metadata": {},
     "output_type": "execute_result"
    }
   ],
   "source": [
    "benimMatrixDizim[1:,1]"
   ]
  },
  {
   "cell_type": "markdown",
   "id": "1fa4310a",
   "metadata": {},
   "source": [
    "## operasyonlar"
   ]
  },
  {
   "cell_type": "code",
   "execution_count": 25,
   "id": "3cc2c91e",
   "metadata": {},
   "outputs": [],
   "source": [
    "yeniBirDizi=np.random.randint(1,100,17)"
   ]
  },
  {
   "cell_type": "code",
   "execution_count": 27,
   "id": "c73d6249",
   "metadata": {},
   "outputs": [
    {
     "data": {
      "text/plain": [
       "array([15, 91, 15, 97,  9,  2, 42, 75, 15, 78, 23, 57, 75, 30, 17, 55, 31])"
      ]
     },
     "execution_count": 27,
     "metadata": {},
     "output_type": "execute_result"
    }
   ],
   "source": [
    "yeniBirDizi"
   ]
  },
  {
   "cell_type": "code",
   "execution_count": 28,
   "id": "3a9bab6b",
   "metadata": {},
   "outputs": [
    {
     "data": {
      "text/plain": [
       "array([ True, False,  True, False,  True,  True,  True, False,  True,\n",
       "       False,  True, False, False,  True,  True, False,  True])"
      ]
     },
     "execution_count": 28,
     "metadata": {},
     "output_type": "execute_result"
    }
   ],
   "source": [
    "yeniBirDizi<50"
   ]
  },
  {
   "cell_type": "code",
   "execution_count": 29,
   "id": "4c80225c",
   "metadata": {},
   "outputs": [],
   "source": [
    "sonuc=yeniBirDizi<50"
   ]
  },
  {
   "cell_type": "code",
   "execution_count": 30,
   "id": "e5eacb1e",
   "metadata": {},
   "outputs": [
    {
     "data": {
      "text/plain": [
       "array([ True, False,  True, False,  True,  True,  True, False,  True,\n",
       "       False,  True, False, False,  True,  True, False,  True])"
      ]
     },
     "execution_count": 30,
     "metadata": {},
     "output_type": "execute_result"
    }
   ],
   "source": [
    "sonuc"
   ]
  },
  {
   "cell_type": "code",
   "execution_count": 31,
   "id": "14a5f3df",
   "metadata": {},
   "outputs": [
    {
     "data": {
      "text/plain": [
       "array([15, 15,  9,  2, 42, 15, 23, 30, 17, 31])"
      ]
     },
     "execution_count": 31,
     "metadata": {},
     "output_type": "execute_result"
    }
   ],
   "source": [
    "yeniBirDizi[sonuc]"
   ]
  },
  {
   "cell_type": "code",
   "execution_count": 32,
   "id": "b6725054",
   "metadata": {},
   "outputs": [],
   "source": [
    "sonDizi=np.arange(24)"
   ]
  },
  {
   "cell_type": "code",
   "execution_count": 33,
   "id": "b7267dd4",
   "metadata": {},
   "outputs": [
    {
     "data": {
      "text/plain": [
       "array([ 0,  1,  2,  3,  4,  5,  6,  7,  8,  9, 10, 11, 12, 13, 14, 15, 16,\n",
       "       17, 18, 19, 20, 21, 22, 23])"
      ]
     },
     "execution_count": 33,
     "metadata": {},
     "output_type": "execute_result"
    }
   ],
   "source": [
    "sonDizi\n"
   ]
  },
  {
   "cell_type": "code",
   "execution_count": 34,
   "id": "104a0eca",
   "metadata": {},
   "outputs": [],
   "source": [
    "sonDizi+=sonDizi\n"
   ]
  },
  {
   "cell_type": "code",
   "execution_count": 35,
   "id": "368df7b0",
   "metadata": {},
   "outputs": [
    {
     "data": {
      "text/plain": [
       "array([ 0,  2,  4,  6,  8, 10, 12, 14, 16, 18, 20, 22, 24, 26, 28, 30, 32,\n",
       "       34, 36, 38, 40, 42, 44, 46])"
      ]
     },
     "execution_count": 35,
     "metadata": {},
     "output_type": "execute_result"
    }
   ],
   "source": [
    "sonDizi"
   ]
  },
  {
   "cell_type": "code",
   "execution_count": 36,
   "id": "69c7c4bc",
   "metadata": {},
   "outputs": [
    {
     "data": {
      "text/plain": [
       "array([0.        , 1.41421356, 2.        , 2.44948974, 2.82842712,\n",
       "       3.16227766, 3.46410162, 3.74165739, 4.        , 4.24264069,\n",
       "       4.47213595, 4.69041576, 4.89897949, 5.09901951, 5.29150262,\n",
       "       5.47722558, 5.65685425, 5.83095189, 6.        , 6.164414  ,\n",
       "       6.32455532, 6.4807407 , 6.63324958, 6.78232998])"
      ]
     },
     "execution_count": 36,
     "metadata": {},
     "output_type": "execute_result"
    }
   ],
   "source": [
    "np.sqrt(sonDizi)"
   ]
  },
  {
   "cell_type": "code",
   "execution_count": 37,
   "id": "48a4cde5",
   "metadata": {},
   "outputs": [
    {
     "data": {
      "text/plain": [
       "46"
      ]
     },
     "execution_count": 37,
     "metadata": {},
     "output_type": "execute_result"
    }
   ],
   "source": [
    "np.max(sonDizi)"
   ]
  },
  {
   "cell_type": "code",
   "execution_count": 39,
   "id": "25446037",
   "metadata": {},
   "outputs": [
    {
     "data": {
      "text/plain": [
       "0"
      ]
     },
     "execution_count": 39,
     "metadata": {},
     "output_type": "execute_result"
    }
   ],
   "source": [
    "np.min(sonDizi)"
   ]
  },
  {
   "cell_type": "code",
   "execution_count": null,
   "id": "1bdebe1b",
   "metadata": {},
   "outputs": [],
   "source": []
  }
 ],
 "metadata": {
  "kernelspec": {
   "display_name": "Python 3 (ipykernel)",
   "language": "python",
   "name": "python3"
  },
  "language_info": {
   "codemirror_mode": {
    "name": "ipython",
    "version": 3
   },
   "file_extension": ".py",
   "mimetype": "text/x-python",
   "name": "python",
   "nbconvert_exporter": "python",
   "pygments_lexer": "ipython3",
   "version": "3.10.9"
  }
 },
 "nbformat": 4,
 "nbformat_minor": 5
}
