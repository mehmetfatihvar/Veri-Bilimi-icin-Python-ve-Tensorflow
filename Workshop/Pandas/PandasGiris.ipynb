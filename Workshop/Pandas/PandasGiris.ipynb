{
 "cells": [
  {
   "cell_type": "code",
   "execution_count": 1,
   "id": "e885da1b",
   "metadata": {},
   "outputs": [],
   "source": [
    "import numpy as np\n",
    "import pandas as pd"
   ]
  },
  {
   "cell_type": "markdown",
   "id": "5120e02e",
   "metadata": {},
   "source": [
    "## series"
   ]
  },
  {
   "cell_type": "code",
   "execution_count": 2,
   "id": "09a536ae",
   "metadata": {},
   "outputs": [
    {
     "data": {
      "text/plain": [
       "Mehmet    21\n",
       "Ahmet     26\n",
       "Yavuz     15\n",
       "dtype: int64"
      ]
     },
     "execution_count": 2,
     "metadata": {},
     "output_type": "execute_result"
    }
   ],
   "source": [
    "benimSozluk={\"Mehmet\" : 21 , \"Ahmet\" : 26 , \"Yavuz\" :15}\n",
    "pd.Series(benimSozluk)"
   ]
  },
  {
   "cell_type": "code",
   "execution_count": 3,
   "id": "d53965b7",
   "metadata": {},
   "outputs": [
    {
     "data": {
      "text/plain": [
       "0    26\n",
       "1    21\n",
       "2    15\n",
       "dtype: int64"
      ]
     },
     "execution_count": 3,
     "metadata": {},
     "output_type": "execute_result"
    }
   ],
   "source": [
    "isimListe = [\"Ahmet\",\"Mehmet\",\"Yavuz\"]\n",
    "yasListe = [26,21,15]\n",
    "pd.Series(yasListe)\n"
   ]
  },
  {
   "cell_type": "code",
   "execution_count": 5,
   "id": "5df43c11",
   "metadata": {},
   "outputs": [
    {
     "data": {
      "text/plain": [
       "Ahmet     26\n",
       "Mehmet    21\n",
       "Yavuz     15\n",
       "dtype: int64"
      ]
     },
     "execution_count": 5,
     "metadata": {},
     "output_type": "execute_result"
    }
   ],
   "source": [
    "pd.Series(data=yasListe,index=isimListe)"
   ]
  },
  {
   "cell_type": "code",
   "execution_count": 6,
   "id": "afd278be",
   "metadata": {},
   "outputs": [],
   "source": [
    "numpyDizi=np.array([26,21,15])"
   ]
  },
  {
   "cell_type": "code",
   "execution_count": 7,
   "id": "1cc07577",
   "metadata": {},
   "outputs": [
    {
     "data": {
      "text/plain": [
       "Ahmet     26\n",
       "Mehmet    21\n",
       "Yavuz     15\n",
       "dtype: int32"
      ]
     },
     "execution_count": 7,
     "metadata": {},
     "output_type": "execute_result"
    }
   ],
   "source": [
    "pd.Series(numpyDizi,isimListe)"
   ]
  },
  {
   "cell_type": "code",
   "execution_count": 8,
   "id": "5276c7a3",
   "metadata": {},
   "outputs": [
    {
     "data": {
      "text/plain": [
       "1     Ahmet\n",
       "2    Mehmet\n",
       "3     Yavuz\n",
       "dtype: object"
      ]
     },
     "execution_count": 8,
     "metadata": {},
     "output_type": "execute_result"
    }
   ],
   "source": [
    "pd.Series([\"Ahmet\",\"Mehmet\",\"Yavuz\"],[1,2,3])"
   ]
  },
  {
   "cell_type": "code",
   "execution_count": 13,
   "id": "6134c602",
   "metadata": {},
   "outputs": [],
   "source": [
    "yarismaSonucu=pd.Series([17,13,11],[\"Ahmet\",\"Mehmet\",\"Yavuz\"])"
   ]
  },
  {
   "cell_type": "code",
   "execution_count": 14,
   "id": "a048662a",
   "metadata": {},
   "outputs": [
    {
     "data": {
      "text/plain": [
       "Ahmet     17\n",
       "Mehmet    13\n",
       "Yavuz     11\n",
       "dtype: int64"
      ]
     },
     "execution_count": 14,
     "metadata": {},
     "output_type": "execute_result"
    }
   ],
   "source": [
    "yarismaSonucu"
   ]
  },
  {
   "cell_type": "code",
   "execution_count": 16,
   "id": "027fbedd",
   "metadata": {},
   "outputs": [],
   "source": [
    "yarismaSonucu2=pd.Series([26,24,23],[\"Ahmet\",\"Mehmet\",\"Yavuz\"])"
   ]
  },
  {
   "cell_type": "code",
   "execution_count": 17,
   "id": "f75da148",
   "metadata": {},
   "outputs": [
    {
     "data": {
      "text/plain": [
       "Ahmet     26\n",
       "Mehmet    24\n",
       "Yavuz     23\n",
       "dtype: int64"
      ]
     },
     "execution_count": 17,
     "metadata": {},
     "output_type": "execute_result"
    }
   ],
   "source": [
    "yarismaSonucu2"
   ]
  },
  {
   "cell_type": "code",
   "execution_count": 18,
   "id": "099488e6",
   "metadata": {},
   "outputs": [],
   "source": [
    "sonSonuc=yarismaSonucu+yarismaSonucu2"
   ]
  },
  {
   "cell_type": "code",
   "execution_count": 19,
   "id": "dff540ea",
   "metadata": {},
   "outputs": [
    {
     "data": {
      "text/plain": [
       "Ahmet     43\n",
       "Mehmet    37\n",
       "Yavuz     34\n",
       "dtype: int64"
      ]
     },
     "execution_count": 19,
     "metadata": {},
     "output_type": "execute_result"
    }
   ],
   "source": [
    "sonSonuc\n",
    "\n"
   ]
  },
  {
   "cell_type": "code",
   "execution_count": 20,
   "id": "4254ffb6",
   "metadata": {},
   "outputs": [],
   "source": [
    "farklisonuc=pd.Series([3,5,7,9],[\"a\",\"b\",\"c\",\"d\"])\n",
    "farklisonuc2=pd.Series([3,5,7,9],[\"a\",\"f\",\"c\",\"e\"])"
   ]
  },
  {
   "cell_type": "code",
   "execution_count": 21,
   "id": "16c23d5c",
   "metadata": {},
   "outputs": [
    {
     "data": {
      "text/plain": [
       "a     6.0\n",
       "b     NaN\n",
       "c    14.0\n",
       "d     NaN\n",
       "e     NaN\n",
       "f     NaN\n",
       "dtype: float64"
      ]
     },
     "execution_count": 21,
     "metadata": {},
     "output_type": "execute_result"
    }
   ],
   "source": [
    "farklisonuc+farklisonuc2"
   ]
  },
  {
   "cell_type": "code",
   "execution_count": null,
   "id": "72f6e0a5",
   "metadata": {},
   "outputs": [],
   "source": []
  }
 ],
 "metadata": {
  "kernelspec": {
   "display_name": "Python 3 (ipykernel)",
   "language": "python",
   "name": "python3"
  },
  "language_info": {
   "codemirror_mode": {
    "name": "ipython",
    "version": 3
   },
   "file_extension": ".py",
   "mimetype": "text/x-python",
   "name": "python",
   "nbconvert_exporter": "python",
   "pygments_lexer": "ipython3",
   "version": "3.10.9"
  }
 },
 "nbformat": 4,
 "nbformat_minor": 5
}
