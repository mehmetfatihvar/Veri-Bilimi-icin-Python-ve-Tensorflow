{
 "cells": [
  {
   "cell_type": "markdown",
   "id": "ad43a868",
   "metadata": {},
   "source": []
  },
  {
   "cell_type": "code",
   "execution_count": 1,
   "id": "bd9ba77c",
   "metadata": {},
   "outputs": [],
   "source": [
    "import pandas as pd\n",
    "import numpy as np"
   ]
  },
  {
   "cell_type": "code",
   "execution_count": 19,
   "id": "2e526695",
   "metadata": {},
   "outputs": [],
   "source": [
    "sozluk1 = {\"Isim\" : [\"Ahmet\",\"Mehmet\",\"Yavuz\",\"Furkan\"] ,\"Spor\": [\"Koşu\",\"Yüzme\",\"Kalistenik\",\"Boks\"],\n",
    "           \"Kalori\": [100,200,300,400]}\n",
    "dataFrame1=pd.DataFrame(sozluk1,index=[0,1,2,3])"
   ]
  },
  {
   "cell_type": "code",
   "execution_count": 20,
   "id": "8719fd79",
   "metadata": {},
   "outputs": [
    {
     "data": {
      "text/html": [
       "<div>\n",
       "<style scoped>\n",
       "    .dataframe tbody tr th:only-of-type {\n",
       "        vertical-align: middle;\n",
       "    }\n",
       "\n",
       "    .dataframe tbody tr th {\n",
       "        vertical-align: top;\n",
       "    }\n",
       "\n",
       "    .dataframe thead th {\n",
       "        text-align: right;\n",
       "    }\n",
       "</style>\n",
       "<table border=\"1\" class=\"dataframe\">\n",
       "  <thead>\n",
       "    <tr style=\"text-align: right;\">\n",
       "      <th></th>\n",
       "      <th>Isim</th>\n",
       "      <th>Spor</th>\n",
       "      <th>Kalori</th>\n",
       "    </tr>\n",
       "  </thead>\n",
       "  <tbody>\n",
       "    <tr>\n",
       "      <th>0</th>\n",
       "      <td>Ahmet</td>\n",
       "      <td>Koşu</td>\n",
       "      <td>100</td>\n",
       "    </tr>\n",
       "    <tr>\n",
       "      <th>1</th>\n",
       "      <td>Mehmet</td>\n",
       "      <td>Yüzme</td>\n",
       "      <td>200</td>\n",
       "    </tr>\n",
       "    <tr>\n",
       "      <th>2</th>\n",
       "      <td>Yavuz</td>\n",
       "      <td>Kalistenik</td>\n",
       "      <td>300</td>\n",
       "    </tr>\n",
       "    <tr>\n",
       "      <th>3</th>\n",
       "      <td>Furkan</td>\n",
       "      <td>Boks</td>\n",
       "      <td>400</td>\n",
       "    </tr>\n",
       "  </tbody>\n",
       "</table>\n",
       "</div>"
      ],
      "text/plain": [
       "     Isim        Spor  Kalori\n",
       "0   Ahmet        Koşu     100\n",
       "1  Mehmet       Yüzme     200\n",
       "2   Yavuz  Kalistenik     300\n",
       "3  Furkan        Boks     400"
      ]
     },
     "execution_count": 20,
     "metadata": {},
     "output_type": "execute_result"
    }
   ],
   "source": [
    "dataFrame1"
   ]
  },
  {
   "cell_type": "code",
   "execution_count": 21,
   "id": "d7789112",
   "metadata": {},
   "outputs": [],
   "source": [
    "sozluk2 = {\"Isim\" : [\"Sam\",\"Toni\",\"Coni\",\"Herkel\"] ,\"Spor\": [\"Koşu\",\"Yüzme\",\"Kalistenik\",\"Boks\"],\n",
    "           \"Kalori\": [120,150,230,330]}\n",
    "dataFrame2=pd.DataFrame(sozluk2,index=[4,5,6,7])"
   ]
  },
  {
   "cell_type": "code",
   "execution_count": 22,
   "id": "06a85c6f",
   "metadata": {},
   "outputs": [
    {
     "data": {
      "text/html": [
       "<div>\n",
       "<style scoped>\n",
       "    .dataframe tbody tr th:only-of-type {\n",
       "        vertical-align: middle;\n",
       "    }\n",
       "\n",
       "    .dataframe tbody tr th {\n",
       "        vertical-align: top;\n",
       "    }\n",
       "\n",
       "    .dataframe thead th {\n",
       "        text-align: right;\n",
       "    }\n",
       "</style>\n",
       "<table border=\"1\" class=\"dataframe\">\n",
       "  <thead>\n",
       "    <tr style=\"text-align: right;\">\n",
       "      <th></th>\n",
       "      <th>Isim</th>\n",
       "      <th>Spor</th>\n",
       "      <th>Kalori</th>\n",
       "    </tr>\n",
       "  </thead>\n",
       "  <tbody>\n",
       "    <tr>\n",
       "      <th>4</th>\n",
       "      <td>Sam</td>\n",
       "      <td>Koşu</td>\n",
       "      <td>120</td>\n",
       "    </tr>\n",
       "    <tr>\n",
       "      <th>5</th>\n",
       "      <td>Toni</td>\n",
       "      <td>Yüzme</td>\n",
       "      <td>150</td>\n",
       "    </tr>\n",
       "    <tr>\n",
       "      <th>6</th>\n",
       "      <td>Coni</td>\n",
       "      <td>Kalistenik</td>\n",
       "      <td>230</td>\n",
       "    </tr>\n",
       "    <tr>\n",
       "      <th>7</th>\n",
       "      <td>Herkel</td>\n",
       "      <td>Boks</td>\n",
       "      <td>330</td>\n",
       "    </tr>\n",
       "  </tbody>\n",
       "</table>\n",
       "</div>"
      ],
      "text/plain": [
       "     Isim        Spor  Kalori\n",
       "4     Sam        Koşu     120\n",
       "5    Toni       Yüzme     150\n",
       "6    Coni  Kalistenik     230\n",
       "7  Herkel        Boks     330"
      ]
     },
     "execution_count": 22,
     "metadata": {},
     "output_type": "execute_result"
    }
   ],
   "source": [
    "dataFrame2"
   ]
  },
  {
   "cell_type": "code",
   "execution_count": 23,
   "id": "da1965e5",
   "metadata": {},
   "outputs": [],
   "source": [
    "sozluk3 = {\"Isim\" : [\"Joe\",\"Avarel\",\"Merkel\",\"Rachel\"] ,\"Spor\": [\"Koşu\",\"Yüzme\",\"Kalistenik\",\"Boks\"],\n",
    "           \"Kalori\": [110,130,170,130]}\n",
    "dataFrame3=pd.DataFrame(sozluk3,index=[8,9,10,11])"
   ]
  },
  {
   "cell_type": "code",
   "execution_count": 24,
   "id": "0760e3f9",
   "metadata": {},
   "outputs": [
    {
     "data": {
      "text/html": [
       "<div>\n",
       "<style scoped>\n",
       "    .dataframe tbody tr th:only-of-type {\n",
       "        vertical-align: middle;\n",
       "    }\n",
       "\n",
       "    .dataframe tbody tr th {\n",
       "        vertical-align: top;\n",
       "    }\n",
       "\n",
       "    .dataframe thead th {\n",
       "        text-align: right;\n",
       "    }\n",
       "</style>\n",
       "<table border=\"1\" class=\"dataframe\">\n",
       "  <thead>\n",
       "    <tr style=\"text-align: right;\">\n",
       "      <th></th>\n",
       "      <th>Isim</th>\n",
       "      <th>Spor</th>\n",
       "      <th>Kalori</th>\n",
       "    </tr>\n",
       "  </thead>\n",
       "  <tbody>\n",
       "    <tr>\n",
       "      <th>8</th>\n",
       "      <td>Joe</td>\n",
       "      <td>Koşu</td>\n",
       "      <td>110</td>\n",
       "    </tr>\n",
       "    <tr>\n",
       "      <th>9</th>\n",
       "      <td>Avarel</td>\n",
       "      <td>Yüzme</td>\n",
       "      <td>130</td>\n",
       "    </tr>\n",
       "    <tr>\n",
       "      <th>10</th>\n",
       "      <td>Merkel</td>\n",
       "      <td>Kalistenik</td>\n",
       "      <td>170</td>\n",
       "    </tr>\n",
       "    <tr>\n",
       "      <th>11</th>\n",
       "      <td>Rachel</td>\n",
       "      <td>Boks</td>\n",
       "      <td>130</td>\n",
       "    </tr>\n",
       "  </tbody>\n",
       "</table>\n",
       "</div>"
      ],
      "text/plain": [
       "      Isim        Spor  Kalori\n",
       "8      Joe        Koşu     110\n",
       "9   Avarel       Yüzme     130\n",
       "10  Merkel  Kalistenik     170\n",
       "11  Rachel        Boks     130"
      ]
     },
     "execution_count": 24,
     "metadata": {},
     "output_type": "execute_result"
    }
   ],
   "source": [
    "dataFrame3"
   ]
  },
  {
   "cell_type": "code",
   "execution_count": 25,
   "id": "692e0eac",
   "metadata": {},
   "outputs": [
    {
     "data": {
      "text/html": [
       "<div>\n",
       "<style scoped>\n",
       "    .dataframe tbody tr th:only-of-type {\n",
       "        vertical-align: middle;\n",
       "    }\n",
       "\n",
       "    .dataframe tbody tr th {\n",
       "        vertical-align: top;\n",
       "    }\n",
       "\n",
       "    .dataframe thead th {\n",
       "        text-align: right;\n",
       "    }\n",
       "</style>\n",
       "<table border=\"1\" class=\"dataframe\">\n",
       "  <thead>\n",
       "    <tr style=\"text-align: right;\">\n",
       "      <th></th>\n",
       "      <th>Isim</th>\n",
       "      <th>Spor</th>\n",
       "      <th>Kalori</th>\n",
       "    </tr>\n",
       "  </thead>\n",
       "  <tbody>\n",
       "    <tr>\n",
       "      <th>0</th>\n",
       "      <td>Ahmet</td>\n",
       "      <td>Koşu</td>\n",
       "      <td>100</td>\n",
       "    </tr>\n",
       "    <tr>\n",
       "      <th>1</th>\n",
       "      <td>Mehmet</td>\n",
       "      <td>Yüzme</td>\n",
       "      <td>200</td>\n",
       "    </tr>\n",
       "    <tr>\n",
       "      <th>2</th>\n",
       "      <td>Yavuz</td>\n",
       "      <td>Kalistenik</td>\n",
       "      <td>300</td>\n",
       "    </tr>\n",
       "    <tr>\n",
       "      <th>3</th>\n",
       "      <td>Furkan</td>\n",
       "      <td>Boks</td>\n",
       "      <td>400</td>\n",
       "    </tr>\n",
       "    <tr>\n",
       "      <th>4</th>\n",
       "      <td>Sam</td>\n",
       "      <td>Koşu</td>\n",
       "      <td>120</td>\n",
       "    </tr>\n",
       "    <tr>\n",
       "      <th>5</th>\n",
       "      <td>Toni</td>\n",
       "      <td>Yüzme</td>\n",
       "      <td>150</td>\n",
       "    </tr>\n",
       "    <tr>\n",
       "      <th>6</th>\n",
       "      <td>Coni</td>\n",
       "      <td>Kalistenik</td>\n",
       "      <td>230</td>\n",
       "    </tr>\n",
       "    <tr>\n",
       "      <th>7</th>\n",
       "      <td>Herkel</td>\n",
       "      <td>Boks</td>\n",
       "      <td>330</td>\n",
       "    </tr>\n",
       "    <tr>\n",
       "      <th>8</th>\n",
       "      <td>Joe</td>\n",
       "      <td>Koşu</td>\n",
       "      <td>110</td>\n",
       "    </tr>\n",
       "    <tr>\n",
       "      <th>9</th>\n",
       "      <td>Avarel</td>\n",
       "      <td>Yüzme</td>\n",
       "      <td>130</td>\n",
       "    </tr>\n",
       "    <tr>\n",
       "      <th>10</th>\n",
       "      <td>Merkel</td>\n",
       "      <td>Kalistenik</td>\n",
       "      <td>170</td>\n",
       "    </tr>\n",
       "    <tr>\n",
       "      <th>11</th>\n",
       "      <td>Rachel</td>\n",
       "      <td>Boks</td>\n",
       "      <td>130</td>\n",
       "    </tr>\n",
       "  </tbody>\n",
       "</table>\n",
       "</div>"
      ],
      "text/plain": [
       "      Isim        Spor  Kalori\n",
       "0    Ahmet        Koşu     100\n",
       "1   Mehmet       Yüzme     200\n",
       "2    Yavuz  Kalistenik     300\n",
       "3   Furkan        Boks     400\n",
       "4      Sam        Koşu     120\n",
       "5     Toni       Yüzme     150\n",
       "6     Coni  Kalistenik     230\n",
       "7   Herkel        Boks     330\n",
       "8      Joe        Koşu     110\n",
       "9   Avarel       Yüzme     130\n",
       "10  Merkel  Kalistenik     170\n",
       "11  Rachel        Boks     130"
      ]
     },
     "execution_count": 25,
     "metadata": {},
     "output_type": "execute_result"
    }
   ],
   "source": [
    "pd.concat([dataFrame1,dataFrame2,dataFrame3])"
   ]
  },
  {
   "cell_type": "markdown",
   "id": "fb06310e",
   "metadata": {},
   "source": [
    "## merging"
   ]
  },
  {
   "cell_type": "code",
   "execution_count": 26,
   "id": "f2056528",
   "metadata": {},
   "outputs": [],
   "source": [
    "mergeSozluk1={\"Isim\": [\"Ahmet\",\"Mehmet\",\"Ayşe\",\"Fatma\"] ,\"Spor\": [\"Koşu\",\"Yüzme\",\"Koşu\",\"Tenis\"]}\n",
    "mergeDataFrame1=pd.DataFrame(mergeSozluk1)"
   ]
  },
  {
   "cell_type": "code",
   "execution_count": 27,
   "id": "47bb8803",
   "metadata": {},
   "outputs": [],
   "source": [
    "mergeSozluk2={\"Isim\": [\"Ahmet\",\"Mehmet\",\"Ayşe\",\"Fatma\"] ,\"Kalori\": [100,250,310,200]}\n",
    "mergeDataFrame2=pd.DataFrame(mergeSozluk2)"
   ]
  },
  {
   "cell_type": "code",
   "execution_count": 30,
   "id": "96f238ba",
   "metadata": {},
   "outputs": [
    {
     "data": {
      "text/html": [
       "<div>\n",
       "<style scoped>\n",
       "    .dataframe tbody tr th:only-of-type {\n",
       "        vertical-align: middle;\n",
       "    }\n",
       "\n",
       "    .dataframe tbody tr th {\n",
       "        vertical-align: top;\n",
       "    }\n",
       "\n",
       "    .dataframe thead th {\n",
       "        text-align: right;\n",
       "    }\n",
       "</style>\n",
       "<table border=\"1\" class=\"dataframe\">\n",
       "  <thead>\n",
       "    <tr style=\"text-align: right;\">\n",
       "      <th></th>\n",
       "      <th>Isim</th>\n",
       "      <th>Spor</th>\n",
       "      <th>Kalori</th>\n",
       "    </tr>\n",
       "  </thead>\n",
       "  <tbody>\n",
       "    <tr>\n",
       "      <th>0</th>\n",
       "      <td>Ahmet</td>\n",
       "      <td>Koşu</td>\n",
       "      <td>100</td>\n",
       "    </tr>\n",
       "    <tr>\n",
       "      <th>1</th>\n",
       "      <td>Mehmet</td>\n",
       "      <td>Yüzme</td>\n",
       "      <td>250</td>\n",
       "    </tr>\n",
       "    <tr>\n",
       "      <th>2</th>\n",
       "      <td>Ayşe</td>\n",
       "      <td>Koşu</td>\n",
       "      <td>310</td>\n",
       "    </tr>\n",
       "    <tr>\n",
       "      <th>3</th>\n",
       "      <td>Fatma</td>\n",
       "      <td>Tenis</td>\n",
       "      <td>200</td>\n",
       "    </tr>\n",
       "  </tbody>\n",
       "</table>\n",
       "</div>"
      ],
      "text/plain": [
       "     Isim   Spor  Kalori\n",
       "0   Ahmet   Koşu     100\n",
       "1  Mehmet  Yüzme     250\n",
       "2    Ayşe   Koşu     310\n",
       "3   Fatma  Tenis     200"
      ]
     },
     "execution_count": 30,
     "metadata": {},
     "output_type": "execute_result"
    }
   ],
   "source": [
    "yeniMerge=pd.merge(mergeDataFrame1,mergeDataFrame2,on=\"Isim\")"
   ]
  },
  {
   "cell_type": "code",
   "execution_count": 31,
   "id": "c8028fa3",
   "metadata": {},
   "outputs": [],
   "source": [
    "maasSozluk={ \"Isim\": [\"Ahmet\",\"Zeynep\",\"Mehmet\",\"Yavuz\"], \"Departman\":[\"Yazilim\",\"Insaat\",\"Yazilim\",\"Satis\"],\"Maas\": [470,350,300,280]}\n",
    "maasDataFrame=pd.DataFrame(maasSozluk)"
   ]
  },
  {
   "cell_type": "code",
   "execution_count": 32,
   "id": "169731be",
   "metadata": {},
   "outputs": [
    {
     "data": {
      "text/html": [
       "<div>\n",
       "<style scoped>\n",
       "    .dataframe tbody tr th:only-of-type {\n",
       "        vertical-align: middle;\n",
       "    }\n",
       "\n",
       "    .dataframe tbody tr th {\n",
       "        vertical-align: top;\n",
       "    }\n",
       "\n",
       "    .dataframe thead th {\n",
       "        text-align: right;\n",
       "    }\n",
       "</style>\n",
       "<table border=\"1\" class=\"dataframe\">\n",
       "  <thead>\n",
       "    <tr style=\"text-align: right;\">\n",
       "      <th></th>\n",
       "      <th>Isim</th>\n",
       "      <th>Departman</th>\n",
       "      <th>Maas</th>\n",
       "    </tr>\n",
       "  </thead>\n",
       "  <tbody>\n",
       "    <tr>\n",
       "      <th>0</th>\n",
       "      <td>Ahmet</td>\n",
       "      <td>Yazilim</td>\n",
       "      <td>470</td>\n",
       "    </tr>\n",
       "    <tr>\n",
       "      <th>1</th>\n",
       "      <td>Zeynep</td>\n",
       "      <td>Insaat</td>\n",
       "      <td>350</td>\n",
       "    </tr>\n",
       "    <tr>\n",
       "      <th>2</th>\n",
       "      <td>Mehmet</td>\n",
       "      <td>Yazilim</td>\n",
       "      <td>300</td>\n",
       "    </tr>\n",
       "    <tr>\n",
       "      <th>3</th>\n",
       "      <td>Yavuz</td>\n",
       "      <td>Satis</td>\n",
       "      <td>280</td>\n",
       "    </tr>\n",
       "  </tbody>\n",
       "</table>\n",
       "</div>"
      ],
      "text/plain": [
       "     Isim Departman  Maas\n",
       "0   Ahmet   Yazilim   470\n",
       "1  Zeynep    Insaat   350\n",
       "2  Mehmet   Yazilim   300\n",
       "3   Yavuz     Satis   280"
      ]
     },
     "execution_count": 32,
     "metadata": {},
     "output_type": "execute_result"
    }
   ],
   "source": [
    "maasDataFrame"
   ]
  },
  {
   "cell_type": "code",
   "execution_count": 33,
   "id": "3eb7fda9",
   "metadata": {},
   "outputs": [
    {
     "data": {
      "text/plain": [
       "array(['Yazilim', 'Insaat', 'Satis'], dtype=object)"
      ]
     },
     "execution_count": 33,
     "metadata": {},
     "output_type": "execute_result"
    }
   ],
   "source": [
    "maasDataFrame[\"Departman\"].unique()"
   ]
  },
  {
   "cell_type": "code",
   "execution_count": 34,
   "id": "7971ab95",
   "metadata": {},
   "outputs": [
    {
     "data": {
      "text/plain": [
       "3"
      ]
     },
     "execution_count": 34,
     "metadata": {},
     "output_type": "execute_result"
    }
   ],
   "source": [
    "maasDataFrame[\"Departman\"].nunique()"
   ]
  },
  {
   "cell_type": "code",
   "execution_count": 44,
   "id": "ca51a5c2",
   "metadata": {},
   "outputs": [
    {
     "data": {
      "text/plain": [
       "Departman\n",
       "Yazilim    2\n",
       "Insaat     1\n",
       "Satis      1\n",
       "Name: count, dtype: int64"
      ]
     },
     "execution_count": 44,
     "metadata": {},
     "output_type": "execute_result"
    }
   ],
   "source": [
    "maasDataFrame[\"Departman\"].value_counts()"
   ]
  },
  {
   "cell_type": "code",
   "execution_count": 48,
   "id": "e68e94f1",
   "metadata": {},
   "outputs": [],
   "source": [
    "def bruttenNete(maas) :\n",
    "     return maas * 0.66"
   ]
  },
  {
   "cell_type": "code",
   "execution_count": 52,
   "id": "66b09fb3",
   "metadata": {},
   "outputs": [
    {
     "data": {
      "text/plain": [
       "0    310.2\n",
       "1    231.0\n",
       "2    198.0\n",
       "3    184.8\n",
       "Name: Maas, dtype: float64"
      ]
     },
     "execution_count": 52,
     "metadata": {},
     "output_type": "execute_result"
    }
   ],
   "source": [
    "maasDataFrame[\"Maas\"].apply(bruttenNete)"
   ]
  },
  {
   "cell_type": "code",
   "execution_count": 54,
   "id": "9321f462",
   "metadata": {},
   "outputs": [
    {
     "data": {
      "text/html": [
       "<div>\n",
       "<style scoped>\n",
       "    .dataframe tbody tr th:only-of-type {\n",
       "        vertical-align: middle;\n",
       "    }\n",
       "\n",
       "    .dataframe tbody tr th {\n",
       "        vertical-align: top;\n",
       "    }\n",
       "\n",
       "    .dataframe thead th {\n",
       "        text-align: right;\n",
       "    }\n",
       "</style>\n",
       "<table border=\"1\" class=\"dataframe\">\n",
       "  <thead>\n",
       "    <tr style=\"text-align: right;\">\n",
       "      <th></th>\n",
       "      <th>Isim</th>\n",
       "      <th>Departman</th>\n",
       "      <th>Maas</th>\n",
       "    </tr>\n",
       "  </thead>\n",
       "  <tbody>\n",
       "    <tr>\n",
       "      <th>0</th>\n",
       "      <td>False</td>\n",
       "      <td>False</td>\n",
       "      <td>False</td>\n",
       "    </tr>\n",
       "    <tr>\n",
       "      <th>1</th>\n",
       "      <td>False</td>\n",
       "      <td>False</td>\n",
       "      <td>False</td>\n",
       "    </tr>\n",
       "    <tr>\n",
       "      <th>2</th>\n",
       "      <td>False</td>\n",
       "      <td>False</td>\n",
       "      <td>False</td>\n",
       "    </tr>\n",
       "    <tr>\n",
       "      <th>3</th>\n",
       "      <td>False</td>\n",
       "      <td>False</td>\n",
       "      <td>False</td>\n",
       "    </tr>\n",
       "  </tbody>\n",
       "</table>\n",
       "</div>"
      ],
      "text/plain": [
       "    Isim  Departman   Maas\n",
       "0  False      False  False\n",
       "1  False      False  False\n",
       "2  False      False  False\n",
       "3  False      False  False"
      ]
     },
     "execution_count": 54,
     "metadata": {},
     "output_type": "execute_result"
    }
   ],
   "source": [
    "maasDataFrame.isnull()\n"
   ]
  },
  {
   "cell_type": "code",
   "execution_count": 60,
   "id": "170833a7",
   "metadata": {},
   "outputs": [],
   "source": [
    "yeniBirVeri={\"Karakter Sınıfı\":[\"South Park\",\"South Park\",\"Simpson\",\"Simpson\",\"Simpson\",], \n",
    "             \"Karakter Ismi\":[\"Cartman\",\"Kenny\",\"Homer\",\"Bart\",\"Bart\"],\n",
    "            \"Karakter Yas\": [9,10,50,20,10]}\n"
   ]
  },
  {
   "cell_type": "code",
   "execution_count": 61,
   "id": "63bad554",
   "metadata": {},
   "outputs": [],
   "source": [
    "karakterDF=pd.DataFrame(yeniBirVeri)"
   ]
  },
  {
   "cell_type": "code",
   "execution_count": 62,
   "id": "96a8b264",
   "metadata": {},
   "outputs": [
    {
     "data": {
      "text/html": [
       "<div>\n",
       "<style scoped>\n",
       "    .dataframe tbody tr th:only-of-type {\n",
       "        vertical-align: middle;\n",
       "    }\n",
       "\n",
       "    .dataframe tbody tr th {\n",
       "        vertical-align: top;\n",
       "    }\n",
       "\n",
       "    .dataframe thead th {\n",
       "        text-align: right;\n",
       "    }\n",
       "</style>\n",
       "<table border=\"1\" class=\"dataframe\">\n",
       "  <thead>\n",
       "    <tr style=\"text-align: right;\">\n",
       "      <th></th>\n",
       "      <th>Karakter Sınıfı</th>\n",
       "      <th>Karakter Ismi</th>\n",
       "      <th>Karakter Yas</th>\n",
       "    </tr>\n",
       "  </thead>\n",
       "  <tbody>\n",
       "    <tr>\n",
       "      <th>0</th>\n",
       "      <td>South Park</td>\n",
       "      <td>Cartman</td>\n",
       "      <td>9</td>\n",
       "    </tr>\n",
       "    <tr>\n",
       "      <th>1</th>\n",
       "      <td>South Park</td>\n",
       "      <td>Kenny</td>\n",
       "      <td>10</td>\n",
       "    </tr>\n",
       "    <tr>\n",
       "      <th>2</th>\n",
       "      <td>Simpson</td>\n",
       "      <td>Homer</td>\n",
       "      <td>50</td>\n",
       "    </tr>\n",
       "    <tr>\n",
       "      <th>3</th>\n",
       "      <td>Simpson</td>\n",
       "      <td>Bart</td>\n",
       "      <td>20</td>\n",
       "    </tr>\n",
       "    <tr>\n",
       "      <th>4</th>\n",
       "      <td>Simpson</td>\n",
       "      <td>Bart</td>\n",
       "      <td>10</td>\n",
       "    </tr>\n",
       "  </tbody>\n",
       "</table>\n",
       "</div>"
      ],
      "text/plain": [
       "  Karakter Sınıfı Karakter Ismi  Karakter Yas\n",
       "0      South Park       Cartman             9\n",
       "1      South Park         Kenny            10\n",
       "2         Simpson         Homer            50\n",
       "3         Simpson          Bart            20\n",
       "4         Simpson          Bart            10"
      ]
     },
     "execution_count": 62,
     "metadata": {},
     "output_type": "execute_result"
    }
   ],
   "source": [
    "karakterDF"
   ]
  },
  {
   "cell_type": "code",
   "execution_count": 64,
   "id": "5230c486",
   "metadata": {},
   "outputs": [
    {
     "data": {
      "text/html": [
       "<div>\n",
       "<style scoped>\n",
       "    .dataframe tbody tr th:only-of-type {\n",
       "        vertical-align: middle;\n",
       "    }\n",
       "\n",
       "    .dataframe tbody tr th {\n",
       "        vertical-align: top;\n",
       "    }\n",
       "\n",
       "    .dataframe thead th {\n",
       "        text-align: right;\n",
       "    }\n",
       "</style>\n",
       "<table border=\"1\" class=\"dataframe\">\n",
       "  <thead>\n",
       "    <tr style=\"text-align: right;\">\n",
       "      <th></th>\n",
       "      <th></th>\n",
       "      <th>Karakter Yas</th>\n",
       "    </tr>\n",
       "    <tr>\n",
       "      <th>Karakter Sınıfı</th>\n",
       "      <th>Karakter Ismi</th>\n",
       "      <th></th>\n",
       "    </tr>\n",
       "  </thead>\n",
       "  <tbody>\n",
       "    <tr>\n",
       "      <th rowspan=\"2\" valign=\"top\">Simpson</th>\n",
       "      <th>Bart</th>\n",
       "      <td>15</td>\n",
       "    </tr>\n",
       "    <tr>\n",
       "      <th>Homer</th>\n",
       "      <td>50</td>\n",
       "    </tr>\n",
       "    <tr>\n",
       "      <th rowspan=\"2\" valign=\"top\">South Park</th>\n",
       "      <th>Cartman</th>\n",
       "      <td>9</td>\n",
       "    </tr>\n",
       "    <tr>\n",
       "      <th>Kenny</th>\n",
       "      <td>10</td>\n",
       "    </tr>\n",
       "  </tbody>\n",
       "</table>\n",
       "</div>"
      ],
      "text/plain": [
       "                               Karakter Yas\n",
       "Karakter Sınıfı Karakter Ismi              \n",
       "Simpson         Bart                     15\n",
       "                Homer                    50\n",
       "South Park      Cartman                   9\n",
       "                Kenny                    10"
      ]
     },
     "execution_count": 64,
     "metadata": {},
     "output_type": "execute_result"
    }
   ],
   "source": [
    "karakterDF.pivot_table(values=\"Karakter Yas\",index=[\"Karakter Sınıfı\",\"Karakter Ismi\"])"
   ]
  },
  {
   "cell_type": "code",
   "execution_count": 66,
   "id": "82d9ebca",
   "metadata": {},
   "outputs": [
    {
     "data": {
      "text/html": [
       "<div>\n",
       "<style scoped>\n",
       "    .dataframe tbody tr th:only-of-type {\n",
       "        vertical-align: middle;\n",
       "    }\n",
       "\n",
       "    .dataframe tbody tr th {\n",
       "        vertical-align: top;\n",
       "    }\n",
       "\n",
       "    .dataframe thead th {\n",
       "        text-align: right;\n",
       "    }\n",
       "</style>\n",
       "<table border=\"1\" class=\"dataframe\">\n",
       "  <thead>\n",
       "    <tr style=\"text-align: right;\">\n",
       "      <th></th>\n",
       "      <th></th>\n",
       "      <th>Karakter Yas</th>\n",
       "    </tr>\n",
       "    <tr>\n",
       "      <th>Karakter Sınıfı</th>\n",
       "      <th>Karakter Ismi</th>\n",
       "      <th></th>\n",
       "    </tr>\n",
       "  </thead>\n",
       "  <tbody>\n",
       "    <tr>\n",
       "      <th rowspan=\"2\" valign=\"top\">Simpson</th>\n",
       "      <th>Bart</th>\n",
       "      <td>30</td>\n",
       "    </tr>\n",
       "    <tr>\n",
       "      <th>Homer</th>\n",
       "      <td>50</td>\n",
       "    </tr>\n",
       "    <tr>\n",
       "      <th rowspan=\"2\" valign=\"top\">South Park</th>\n",
       "      <th>Cartman</th>\n",
       "      <td>9</td>\n",
       "    </tr>\n",
       "    <tr>\n",
       "      <th>Kenny</th>\n",
       "      <td>10</td>\n",
       "    </tr>\n",
       "  </tbody>\n",
       "</table>\n",
       "</div>"
      ],
      "text/plain": [
       "                               Karakter Yas\n",
       "Karakter Sınıfı Karakter Ismi              \n",
       "Simpson         Bart                     30\n",
       "                Homer                    50\n",
       "South Park      Cartman                   9\n",
       "                Kenny                    10"
      ]
     },
     "execution_count": 66,
     "metadata": {},
     "output_type": "execute_result"
    }
   ],
   "source": [
    "karakterDF.pivot_table(values=\"Karakter Yas\",index=[\"Karakter Sınıfı\",\"Karakter Ismi\"],aggfunc=np.sum)"
   ]
  },
  {
   "cell_type": "code",
   "execution_count": null,
   "id": "8a985af7",
   "metadata": {},
   "outputs": [],
   "source": []
  }
 ],
 "metadata": {
  "kernelspec": {
   "display_name": "Python 3 (ipykernel)",
   "language": "python",
   "name": "python3"
  },
  "language_info": {
   "codemirror_mode": {
    "name": "ipython",
    "version": 3
   },
   "file_extension": ".py",
   "mimetype": "text/x-python",
   "name": "python",
   "nbconvert_exporter": "python",
   "pygments_lexer": "ipython3",
   "version": "3.10.9"
  }
 },
 "nbformat": 4,
 "nbformat_minor": 5
}
