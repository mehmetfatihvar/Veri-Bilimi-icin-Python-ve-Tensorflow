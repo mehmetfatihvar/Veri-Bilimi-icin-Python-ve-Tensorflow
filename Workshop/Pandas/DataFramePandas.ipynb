{
 "cells": [
  {
   "cell_type": "code",
   "execution_count": 3,
   "id": "82998894",
   "metadata": {},
   "outputs": [],
   "source": [
    "import pandas as pd\n",
    "import numpy as np"
   ]
  },
  {
   "cell_type": "code",
   "execution_count": 4,
   "id": "b364bde1",
   "metadata": {},
   "outputs": [],
   "source": [
    "data=np.random.randint(15000,50000,(3,3))"
   ]
  },
  {
   "cell_type": "code",
   "execution_count": 5,
   "id": "4ce9453c",
   "metadata": {},
   "outputs": [],
   "source": [
    "dataFrame=pd.DataFrame(data)"
   ]
  },
  {
   "cell_type": "code",
   "execution_count": 6,
   "id": "c8e62594",
   "metadata": {},
   "outputs": [
    {
     "data": {
      "text/html": [
       "<div>\n",
       "<style scoped>\n",
       "    .dataframe tbody tr th:only-of-type {\n",
       "        vertical-align: middle;\n",
       "    }\n",
       "\n",
       "    .dataframe tbody tr th {\n",
       "        vertical-align: top;\n",
       "    }\n",
       "\n",
       "    .dataframe thead th {\n",
       "        text-align: right;\n",
       "    }\n",
       "</style>\n",
       "<table border=\"1\" class=\"dataframe\">\n",
       "  <thead>\n",
       "    <tr style=\"text-align: right;\">\n",
       "      <th></th>\n",
       "      <th>0</th>\n",
       "      <th>1</th>\n",
       "      <th>2</th>\n",
       "    </tr>\n",
       "  </thead>\n",
       "  <tbody>\n",
       "    <tr>\n",
       "      <th>0</th>\n",
       "      <td>43105</td>\n",
       "      <td>35426</td>\n",
       "      <td>21150</td>\n",
       "    </tr>\n",
       "    <tr>\n",
       "      <th>1</th>\n",
       "      <td>32027</td>\n",
       "      <td>16184</td>\n",
       "      <td>42713</td>\n",
       "    </tr>\n",
       "    <tr>\n",
       "      <th>2</th>\n",
       "      <td>29716</td>\n",
       "      <td>45642</td>\n",
       "      <td>36168</td>\n",
       "    </tr>\n",
       "  </tbody>\n",
       "</table>\n",
       "</div>"
      ],
      "text/plain": [
       "       0      1      2\n",
       "0  43105  35426  21150\n",
       "1  32027  16184  42713\n",
       "2  29716  45642  36168"
      ]
     },
     "execution_count": 6,
     "metadata": {},
     "output_type": "execute_result"
    }
   ],
   "source": [
    "dataFrame\n"
   ]
  },
  {
   "cell_type": "code",
   "execution_count": 7,
   "id": "43cae918",
   "metadata": {},
   "outputs": [],
   "source": [
    "yeniDataFrame=pd.DataFrame(data,index=[\"Ahmet\",\"Mehmet\",\"Yavuz\"])"
   ]
  },
  {
   "cell_type": "code",
   "execution_count": 8,
   "id": "acafefaa",
   "metadata": {},
   "outputs": [
    {
     "data": {
      "text/html": [
       "<div>\n",
       "<style scoped>\n",
       "    .dataframe tbody tr th:only-of-type {\n",
       "        vertical-align: middle;\n",
       "    }\n",
       "\n",
       "    .dataframe tbody tr th {\n",
       "        vertical-align: top;\n",
       "    }\n",
       "\n",
       "    .dataframe thead th {\n",
       "        text-align: right;\n",
       "    }\n",
       "</style>\n",
       "<table border=\"1\" class=\"dataframe\">\n",
       "  <thead>\n",
       "    <tr style=\"text-align: right;\">\n",
       "      <th></th>\n",
       "      <th>0</th>\n",
       "      <th>1</th>\n",
       "      <th>2</th>\n",
       "    </tr>\n",
       "  </thead>\n",
       "  <tbody>\n",
       "    <tr>\n",
       "      <th>Ahmet</th>\n",
       "      <td>43105</td>\n",
       "      <td>35426</td>\n",
       "      <td>21150</td>\n",
       "    </tr>\n",
       "    <tr>\n",
       "      <th>Mehmet</th>\n",
       "      <td>32027</td>\n",
       "      <td>16184</td>\n",
       "      <td>42713</td>\n",
       "    </tr>\n",
       "    <tr>\n",
       "      <th>Yavuz</th>\n",
       "      <td>29716</td>\n",
       "      <td>45642</td>\n",
       "      <td>36168</td>\n",
       "    </tr>\n",
       "  </tbody>\n",
       "</table>\n",
       "</div>"
      ],
      "text/plain": [
       "            0      1      2\n",
       "Ahmet   43105  35426  21150\n",
       "Mehmet  32027  16184  42713\n",
       "Yavuz   29716  45642  36168"
      ]
     },
     "execution_count": 8,
     "metadata": {},
     "output_type": "execute_result"
    }
   ],
   "source": [
    "yeniDataFrame"
   ]
  },
  {
   "cell_type": "code",
   "execution_count": 9,
   "id": "2ed6cc55",
   "metadata": {},
   "outputs": [],
   "source": [
    "yeniDataFrame=pd.DataFrame(data,index=[\"Ahmet\",\"Mehmet\",\"Yavuz\"],columns=[2018,2019,2020])"
   ]
  },
  {
   "cell_type": "code",
   "execution_count": 10,
   "id": "cf8c4bb4",
   "metadata": {},
   "outputs": [
    {
     "data": {
      "text/html": [
       "<div>\n",
       "<style scoped>\n",
       "    .dataframe tbody tr th:only-of-type {\n",
       "        vertical-align: middle;\n",
       "    }\n",
       "\n",
       "    .dataframe tbody tr th {\n",
       "        vertical-align: top;\n",
       "    }\n",
       "\n",
       "    .dataframe thead th {\n",
       "        text-align: right;\n",
       "    }\n",
       "</style>\n",
       "<table border=\"1\" class=\"dataframe\">\n",
       "  <thead>\n",
       "    <tr style=\"text-align: right;\">\n",
       "      <th></th>\n",
       "      <th>2018</th>\n",
       "      <th>2019</th>\n",
       "      <th>2020</th>\n",
       "    </tr>\n",
       "  </thead>\n",
       "  <tbody>\n",
       "    <tr>\n",
       "      <th>Ahmet</th>\n",
       "      <td>43105</td>\n",
       "      <td>35426</td>\n",
       "      <td>21150</td>\n",
       "    </tr>\n",
       "    <tr>\n",
       "      <th>Mehmet</th>\n",
       "      <td>32027</td>\n",
       "      <td>16184</td>\n",
       "      <td>42713</td>\n",
       "    </tr>\n",
       "    <tr>\n",
       "      <th>Yavuz</th>\n",
       "      <td>29716</td>\n",
       "      <td>45642</td>\n",
       "      <td>36168</td>\n",
       "    </tr>\n",
       "  </tbody>\n",
       "</table>\n",
       "</div>"
      ],
      "text/plain": [
       "         2018   2019   2020\n",
       "Ahmet   43105  35426  21150\n",
       "Mehmet  32027  16184  42713\n",
       "Yavuz   29716  45642  36168"
      ]
     },
     "execution_count": 10,
     "metadata": {},
     "output_type": "execute_result"
    }
   ],
   "source": [
    "yeniDataFrame\n"
   ]
  },
  {
   "cell_type": "code",
   "execution_count": 11,
   "id": "797bc01d",
   "metadata": {},
   "outputs": [
    {
     "data": {
      "text/plain": [
       "Ahmet     35426\n",
       "Mehmet    16184\n",
       "Yavuz     45642\n",
       "Name: 2019, dtype: int32"
      ]
     },
     "execution_count": 11,
     "metadata": {},
     "output_type": "execute_result"
    }
   ],
   "source": [
    "yeniDataFrame[2019]"
   ]
  },
  {
   "cell_type": "code",
   "execution_count": 12,
   "id": "0876844b",
   "metadata": {},
   "outputs": [
    {
     "data": {
      "text/plain": [
       "Ahmet     43105\n",
       "Mehmet    32027\n",
       "Yavuz     29716\n",
       "Name: 2018, dtype: int32"
      ]
     },
     "execution_count": 12,
     "metadata": {},
     "output_type": "execute_result"
    }
   ],
   "source": [
    "yeniDataFrame[2018]"
   ]
  },
  {
   "cell_type": "code",
   "execution_count": 13,
   "id": "467dce6b",
   "metadata": {},
   "outputs": [
    {
     "data": {
      "text/plain": [
       "2018    43105\n",
       "2019    35426\n",
       "2020    21150\n",
       "Name: Ahmet, dtype: int32"
      ]
     },
     "execution_count": 13,
     "metadata": {},
     "output_type": "execute_result"
    }
   ],
   "source": [
    "yeniDataFrame.loc[\"Ahmet\"]"
   ]
  },
  {
   "cell_type": "code",
   "execution_count": 14,
   "id": "3c74317d",
   "metadata": {},
   "outputs": [
    {
     "data": {
      "text/plain": [
       "2018    29716\n",
       "2019    45642\n",
       "2020    36168\n",
       "Name: Yavuz, dtype: int32"
      ]
     },
     "execution_count": 14,
     "metadata": {},
     "output_type": "execute_result"
    }
   ],
   "source": [
    "yeniDataFrame.iloc[2]"
   ]
  },
  {
   "cell_type": "code",
   "execution_count": 19,
   "id": "9e610c74",
   "metadata": {},
   "outputs": [],
   "source": [
    "yeniDataFrame[2021]= yeniDataFrame[2020] + yeniDataFrame[2019]"
   ]
  },
  {
   "cell_type": "code",
   "execution_count": 20,
   "id": "8d8a5288",
   "metadata": {},
   "outputs": [
    {
     "data": {
      "text/html": [
       "<div>\n",
       "<style scoped>\n",
       "    .dataframe tbody tr th:only-of-type {\n",
       "        vertical-align: middle;\n",
       "    }\n",
       "\n",
       "    .dataframe tbody tr th {\n",
       "        vertical-align: top;\n",
       "    }\n",
       "\n",
       "    .dataframe thead th {\n",
       "        text-align: right;\n",
       "    }\n",
       "</style>\n",
       "<table border=\"1\" class=\"dataframe\">\n",
       "  <thead>\n",
       "    <tr style=\"text-align: right;\">\n",
       "      <th></th>\n",
       "      <th>2018</th>\n",
       "      <th>2019</th>\n",
       "      <th>2020</th>\n",
       "      <th>2021</th>\n",
       "    </tr>\n",
       "  </thead>\n",
       "  <tbody>\n",
       "    <tr>\n",
       "      <th>Ahmet</th>\n",
       "      <td>43105</td>\n",
       "      <td>35426</td>\n",
       "      <td>21150</td>\n",
       "      <td>56576</td>\n",
       "    </tr>\n",
       "    <tr>\n",
       "      <th>Mehmet</th>\n",
       "      <td>32027</td>\n",
       "      <td>16184</td>\n",
       "      <td>42713</td>\n",
       "      <td>58897</td>\n",
       "    </tr>\n",
       "    <tr>\n",
       "      <th>Yavuz</th>\n",
       "      <td>29716</td>\n",
       "      <td>45642</td>\n",
       "      <td>36168</td>\n",
       "      <td>81810</td>\n",
       "    </tr>\n",
       "  </tbody>\n",
       "</table>\n",
       "</div>"
      ],
      "text/plain": [
       "         2018   2019   2020   2021\n",
       "Ahmet   43105  35426  21150  56576\n",
       "Mehmet  32027  16184  42713  58897\n",
       "Yavuz   29716  45642  36168  81810"
      ]
     },
     "execution_count": 20,
     "metadata": {},
     "output_type": "execute_result"
    }
   ],
   "source": [
    "yeniDataFrame"
   ]
  },
  {
   "cell_type": "code",
   "execution_count": 21,
   "id": "98ad985a",
   "metadata": {},
   "outputs": [
    {
     "data": {
      "text/html": [
       "<div>\n",
       "<style scoped>\n",
       "    .dataframe tbody tr th:only-of-type {\n",
       "        vertical-align: middle;\n",
       "    }\n",
       "\n",
       "    .dataframe tbody tr th {\n",
       "        vertical-align: top;\n",
       "    }\n",
       "\n",
       "    .dataframe thead th {\n",
       "        text-align: right;\n",
       "    }\n",
       "</style>\n",
       "<table border=\"1\" class=\"dataframe\">\n",
       "  <thead>\n",
       "    <tr style=\"text-align: right;\">\n",
       "      <th></th>\n",
       "      <th>2019</th>\n",
       "      <th>2020</th>\n",
       "      <th>2021</th>\n",
       "    </tr>\n",
       "  </thead>\n",
       "  <tbody>\n",
       "    <tr>\n",
       "      <th>Ahmet</th>\n",
       "      <td>35426</td>\n",
       "      <td>21150</td>\n",
       "      <td>56576</td>\n",
       "    </tr>\n",
       "    <tr>\n",
       "      <th>Mehmet</th>\n",
       "      <td>16184</td>\n",
       "      <td>42713</td>\n",
       "      <td>58897</td>\n",
       "    </tr>\n",
       "    <tr>\n",
       "      <th>Yavuz</th>\n",
       "      <td>45642</td>\n",
       "      <td>36168</td>\n",
       "      <td>81810</td>\n",
       "    </tr>\n",
       "  </tbody>\n",
       "</table>\n",
       "</div>"
      ],
      "text/plain": [
       "         2019   2020   2021\n",
       "Ahmet   35426  21150  56576\n",
       "Mehmet  16184  42713  58897\n",
       "Yavuz   45642  36168  81810"
      ]
     },
     "execution_count": 21,
     "metadata": {},
     "output_type": "execute_result"
    }
   ],
   "source": [
    "yeniDataFrame.drop(2018,axis=1)"
   ]
  },
  {
   "cell_type": "code",
   "execution_count": 22,
   "id": "e8a4ce35",
   "metadata": {},
   "outputs": [
    {
     "data": {
      "text/html": [
       "<div>\n",
       "<style scoped>\n",
       "    .dataframe tbody tr th:only-of-type {\n",
       "        vertical-align: middle;\n",
       "    }\n",
       "\n",
       "    .dataframe tbody tr th {\n",
       "        vertical-align: top;\n",
       "    }\n",
       "\n",
       "    .dataframe thead th {\n",
       "        text-align: right;\n",
       "    }\n",
       "</style>\n",
       "<table border=\"1\" class=\"dataframe\">\n",
       "  <thead>\n",
       "    <tr style=\"text-align: right;\">\n",
       "      <th></th>\n",
       "      <th>2018</th>\n",
       "      <th>2019</th>\n",
       "      <th>2020</th>\n",
       "      <th>2021</th>\n",
       "    </tr>\n",
       "  </thead>\n",
       "  <tbody>\n",
       "    <tr>\n",
       "      <th>Ahmet</th>\n",
       "      <td>43105</td>\n",
       "      <td>35426</td>\n",
       "      <td>21150</td>\n",
       "      <td>56576</td>\n",
       "    </tr>\n",
       "    <tr>\n",
       "      <th>Yavuz</th>\n",
       "      <td>29716</td>\n",
       "      <td>45642</td>\n",
       "      <td>36168</td>\n",
       "      <td>81810</td>\n",
       "    </tr>\n",
       "  </tbody>\n",
       "</table>\n",
       "</div>"
      ],
      "text/plain": [
       "        2018   2019   2020   2021\n",
       "Ahmet  43105  35426  21150  56576\n",
       "Yavuz  29716  45642  36168  81810"
      ]
     },
     "execution_count": 22,
     "metadata": {},
     "output_type": "execute_result"
    }
   ],
   "source": [
    "yeniDataFrame.drop(\"Mehmet\",axis=0)"
   ]
  },
  {
   "cell_type": "code",
   "execution_count": 23,
   "id": "4f8b0b02",
   "metadata": {},
   "outputs": [
    {
     "data": {
      "text/html": [
       "<div>\n",
       "<style scoped>\n",
       "    .dataframe tbody tr th:only-of-type {\n",
       "        vertical-align: middle;\n",
       "    }\n",
       "\n",
       "    .dataframe tbody tr th {\n",
       "        vertical-align: top;\n",
       "    }\n",
       "\n",
       "    .dataframe thead th {\n",
       "        text-align: right;\n",
       "    }\n",
       "</style>\n",
       "<table border=\"1\" class=\"dataframe\">\n",
       "  <thead>\n",
       "    <tr style=\"text-align: right;\">\n",
       "      <th></th>\n",
       "      <th>2018</th>\n",
       "      <th>2019</th>\n",
       "      <th>2020</th>\n",
       "      <th>2021</th>\n",
       "    </tr>\n",
       "  </thead>\n",
       "  <tbody>\n",
       "    <tr>\n",
       "      <th>Ahmet</th>\n",
       "      <td>43105</td>\n",
       "      <td>35426</td>\n",
       "      <td>21150</td>\n",
       "      <td>56576</td>\n",
       "    </tr>\n",
       "    <tr>\n",
       "      <th>Mehmet</th>\n",
       "      <td>32027</td>\n",
       "      <td>16184</td>\n",
       "      <td>42713</td>\n",
       "      <td>58897</td>\n",
       "    </tr>\n",
       "    <tr>\n",
       "      <th>Yavuz</th>\n",
       "      <td>29716</td>\n",
       "      <td>45642</td>\n",
       "      <td>36168</td>\n",
       "      <td>81810</td>\n",
       "    </tr>\n",
       "  </tbody>\n",
       "</table>\n",
       "</div>"
      ],
      "text/plain": [
       "         2018   2019   2020   2021\n",
       "Ahmet   43105  35426  21150  56576\n",
       "Mehmet  32027  16184  42713  58897\n",
       "Yavuz   29716  45642  36168  81810"
      ]
     },
     "execution_count": 23,
     "metadata": {},
     "output_type": "execute_result"
    }
   ],
   "source": [
    "yeniDataFrame\n"
   ]
  },
  {
   "cell_type": "code",
   "execution_count": 24,
   "id": "79daf553",
   "metadata": {},
   "outputs": [],
   "source": [
    "yeniDataFrame.drop(2018,axis=1,inplace=True)"
   ]
  },
  {
   "cell_type": "code",
   "execution_count": 25,
   "id": "704df708",
   "metadata": {},
   "outputs": [
    {
     "data": {
      "text/html": [
       "<div>\n",
       "<style scoped>\n",
       "    .dataframe tbody tr th:only-of-type {\n",
       "        vertical-align: middle;\n",
       "    }\n",
       "\n",
       "    .dataframe tbody tr th {\n",
       "        vertical-align: top;\n",
       "    }\n",
       "\n",
       "    .dataframe thead th {\n",
       "        text-align: right;\n",
       "    }\n",
       "</style>\n",
       "<table border=\"1\" class=\"dataframe\">\n",
       "  <thead>\n",
       "    <tr style=\"text-align: right;\">\n",
       "      <th></th>\n",
       "      <th>2019</th>\n",
       "      <th>2020</th>\n",
       "      <th>2021</th>\n",
       "    </tr>\n",
       "  </thead>\n",
       "  <tbody>\n",
       "    <tr>\n",
       "      <th>Ahmet</th>\n",
       "      <td>35426</td>\n",
       "      <td>21150</td>\n",
       "      <td>56576</td>\n",
       "    </tr>\n",
       "    <tr>\n",
       "      <th>Mehmet</th>\n",
       "      <td>16184</td>\n",
       "      <td>42713</td>\n",
       "      <td>58897</td>\n",
       "    </tr>\n",
       "    <tr>\n",
       "      <th>Yavuz</th>\n",
       "      <td>45642</td>\n",
       "      <td>36168</td>\n",
       "      <td>81810</td>\n",
       "    </tr>\n",
       "  </tbody>\n",
       "</table>\n",
       "</div>"
      ],
      "text/plain": [
       "         2019   2020   2021\n",
       "Ahmet   35426  21150  56576\n",
       "Mehmet  16184  42713  58897\n",
       "Yavuz   45642  36168  81810"
      ]
     },
     "execution_count": 25,
     "metadata": {},
     "output_type": "execute_result"
    }
   ],
   "source": [
    "yeniDataFrame"
   ]
  },
  {
   "cell_type": "code",
   "execution_count": 27,
   "id": "abb664bd",
   "metadata": {},
   "outputs": [
    {
     "data": {
      "text/plain": [
       "35426"
      ]
     },
     "execution_count": 27,
     "metadata": {},
     "output_type": "execute_result"
    }
   ],
   "source": [
    "yeniDataFrame.loc[\"Ahmet\",2019]"
   ]
  },
  {
   "cell_type": "code",
   "execution_count": 29,
   "id": "ccbc7eaa",
   "metadata": {},
   "outputs": [
    {
     "data": {
      "text/html": [
       "<div>\n",
       "<style scoped>\n",
       "    .dataframe tbody tr th:only-of-type {\n",
       "        vertical-align: middle;\n",
       "    }\n",
       "\n",
       "    .dataframe tbody tr th {\n",
       "        vertical-align: top;\n",
       "    }\n",
       "\n",
       "    .dataframe thead th {\n",
       "        text-align: right;\n",
       "    }\n",
       "</style>\n",
       "<table border=\"1\" class=\"dataframe\">\n",
       "  <thead>\n",
       "    <tr style=\"text-align: right;\">\n",
       "      <th></th>\n",
       "      <th>2019</th>\n",
       "      <th>2020</th>\n",
       "      <th>2021</th>\n",
       "    </tr>\n",
       "  </thead>\n",
       "  <tbody>\n",
       "    <tr>\n",
       "      <th>Ahmet</th>\n",
       "      <td>NaN</td>\n",
       "      <td>NaN</td>\n",
       "      <td>56576</td>\n",
       "    </tr>\n",
       "    <tr>\n",
       "      <th>Mehmet</th>\n",
       "      <td>NaN</td>\n",
       "      <td>42713.0</td>\n",
       "      <td>58897</td>\n",
       "    </tr>\n",
       "    <tr>\n",
       "      <th>Yavuz</th>\n",
       "      <td>45642.0</td>\n",
       "      <td>NaN</td>\n",
       "      <td>81810</td>\n",
       "    </tr>\n",
       "  </tbody>\n",
       "</table>\n",
       "</div>"
      ],
      "text/plain": [
       "           2019     2020   2021\n",
       "Ahmet       NaN      NaN  56576\n",
       "Mehmet      NaN  42713.0  58897\n",
       "Yavuz   45642.0      NaN  81810"
      ]
     },
     "execution_count": 29,
     "metadata": {},
     "output_type": "execute_result"
    }
   ],
   "source": [
    "yeniDataFrame [yeniDataFrame> 36168]"
   ]
  },
  {
   "cell_type": "code",
   "execution_count": 30,
   "id": "4f5996b0",
   "metadata": {},
   "outputs": [
    {
     "data": {
      "text/html": [
       "<div>\n",
       "<style scoped>\n",
       "    .dataframe tbody tr th:only-of-type {\n",
       "        vertical-align: middle;\n",
       "    }\n",
       "\n",
       "    .dataframe tbody tr th {\n",
       "        vertical-align: top;\n",
       "    }\n",
       "\n",
       "    .dataframe thead th {\n",
       "        text-align: right;\n",
       "    }\n",
       "</style>\n",
       "<table border=\"1\" class=\"dataframe\">\n",
       "  <thead>\n",
       "    <tr style=\"text-align: right;\">\n",
       "      <th></th>\n",
       "      <th>2019</th>\n",
       "      <th>2020</th>\n",
       "      <th>2021</th>\n",
       "    </tr>\n",
       "  </thead>\n",
       "  <tbody>\n",
       "    <tr>\n",
       "      <th>Ahmet</th>\n",
       "      <td>False</td>\n",
       "      <td>False</td>\n",
       "      <td>True</td>\n",
       "    </tr>\n",
       "    <tr>\n",
       "      <th>Mehmet</th>\n",
       "      <td>False</td>\n",
       "      <td>True</td>\n",
       "      <td>True</td>\n",
       "    </tr>\n",
       "    <tr>\n",
       "      <th>Yavuz</th>\n",
       "      <td>True</td>\n",
       "      <td>False</td>\n",
       "      <td>True</td>\n",
       "    </tr>\n",
       "  </tbody>\n",
       "</table>\n",
       "</div>"
      ],
      "text/plain": [
       "         2019   2020  2021\n",
       "Ahmet   False  False  True\n",
       "Mehmet  False   True  True\n",
       "Yavuz    True  False  True"
      ]
     },
     "execution_count": 30,
     "metadata": {},
     "output_type": "execute_result"
    }
   ],
   "source": [
    "yeniDataFrame > 36168"
   ]
  },
  {
   "cell_type": "code",
   "execution_count": 37,
   "id": "75498176",
   "metadata": {},
   "outputs": [
    {
     "data": {
      "text/html": [
       "<div>\n",
       "<style scoped>\n",
       "    .dataframe tbody tr th:only-of-type {\n",
       "        vertical-align: middle;\n",
       "    }\n",
       "\n",
       "    .dataframe tbody tr th {\n",
       "        vertical-align: top;\n",
       "    }\n",
       "\n",
       "    .dataframe thead th {\n",
       "        text-align: right;\n",
       "    }\n",
       "</style>\n",
       "<table border=\"1\" class=\"dataframe\">\n",
       "  <thead>\n",
       "    <tr style=\"text-align: right;\">\n",
       "      <th></th>\n",
       "      <th>2019</th>\n",
       "      <th>2020</th>\n",
       "      <th>2021</th>\n",
       "    </tr>\n",
       "  </thead>\n",
       "  <tbody>\n",
       "    <tr>\n",
       "      <th>Mehmet</th>\n",
       "      <td>16184</td>\n",
       "      <td>42713</td>\n",
       "      <td>58897</td>\n",
       "    </tr>\n",
       "    <tr>\n",
       "      <th>Yavuz</th>\n",
       "      <td>45642</td>\n",
       "      <td>36168</td>\n",
       "      <td>81810</td>\n",
       "    </tr>\n",
       "  </tbody>\n",
       "</table>\n",
       "</div>"
      ],
      "text/plain": [
       "         2019   2020   2021\n",
       "Mehmet  16184  42713  58897\n",
       "Yavuz   45642  36168  81810"
      ]
     },
     "execution_count": 37,
     "metadata": {},
     "output_type": "execute_result"
    }
   ],
   "source": [
    "yeniDataFrame [yeniDataFrame[2021]>57000]"
   ]
  },
  {
   "cell_type": "code",
   "execution_count": 38,
   "id": "11657980",
   "metadata": {},
   "outputs": [
    {
     "data": {
      "text/html": [
       "<div>\n",
       "<style scoped>\n",
       "    .dataframe tbody tr th:only-of-type {\n",
       "        vertical-align: middle;\n",
       "    }\n",
       "\n",
       "    .dataframe tbody tr th {\n",
       "        vertical-align: top;\n",
       "    }\n",
       "\n",
       "    .dataframe thead th {\n",
       "        text-align: right;\n",
       "    }\n",
       "</style>\n",
       "<table border=\"1\" class=\"dataframe\">\n",
       "  <thead>\n",
       "    <tr style=\"text-align: right;\">\n",
       "      <th></th>\n",
       "      <th>index</th>\n",
       "      <th>2019</th>\n",
       "      <th>2020</th>\n",
       "      <th>2021</th>\n",
       "    </tr>\n",
       "  </thead>\n",
       "  <tbody>\n",
       "    <tr>\n",
       "      <th>0</th>\n",
       "      <td>Ahmet</td>\n",
       "      <td>35426</td>\n",
       "      <td>21150</td>\n",
       "      <td>56576</td>\n",
       "    </tr>\n",
       "    <tr>\n",
       "      <th>1</th>\n",
       "      <td>Mehmet</td>\n",
       "      <td>16184</td>\n",
       "      <td>42713</td>\n",
       "      <td>58897</td>\n",
       "    </tr>\n",
       "    <tr>\n",
       "      <th>2</th>\n",
       "      <td>Yavuz</td>\n",
       "      <td>45642</td>\n",
       "      <td>36168</td>\n",
       "      <td>81810</td>\n",
       "    </tr>\n",
       "  </tbody>\n",
       "</table>\n",
       "</div>"
      ],
      "text/plain": [
       "    index   2019   2020   2021\n",
       "0   Ahmet  35426  21150  56576\n",
       "1  Mehmet  16184  42713  58897\n",
       "2   Yavuz  45642  36168  81810"
      ]
     },
     "execution_count": 38,
     "metadata": {},
     "output_type": "execute_result"
    }
   ],
   "source": [
    "yeniDataFrame.reset_index()"
   ]
  },
  {
   "cell_type": "code",
   "execution_count": 48,
   "id": "31062b2d",
   "metadata": {},
   "outputs": [],
   "source": [
    "yeniIndexListesi=[\"Alp\",\"Yvz\",\"Fth\"]\n",
    "yeniDataFrame[\"Yeni index\"] = yeniIndexListesi\n"
   ]
  },
  {
   "cell_type": "code",
   "execution_count": 49,
   "id": "6b0768a0",
   "metadata": {},
   "outputs": [
    {
     "data": {
      "text/html": [
       "<div>\n",
       "<style scoped>\n",
       "    .dataframe tbody tr th:only-of-type {\n",
       "        vertical-align: middle;\n",
       "    }\n",
       "\n",
       "    .dataframe tbody tr th {\n",
       "        vertical-align: top;\n",
       "    }\n",
       "\n",
       "    .dataframe thead th {\n",
       "        text-align: right;\n",
       "    }\n",
       "</style>\n",
       "<table border=\"1\" class=\"dataframe\">\n",
       "  <thead>\n",
       "    <tr style=\"text-align: right;\">\n",
       "      <th></th>\n",
       "      <th>2019</th>\n",
       "      <th>2020</th>\n",
       "      <th>2021</th>\n",
       "      <th>Yeni index</th>\n",
       "    </tr>\n",
       "  </thead>\n",
       "  <tbody>\n",
       "    <tr>\n",
       "      <th>Ahmet</th>\n",
       "      <td>35426</td>\n",
       "      <td>21150</td>\n",
       "      <td>56576</td>\n",
       "      <td>Alp</td>\n",
       "    </tr>\n",
       "    <tr>\n",
       "      <th>Mehmet</th>\n",
       "      <td>16184</td>\n",
       "      <td>42713</td>\n",
       "      <td>58897</td>\n",
       "      <td>Yvz</td>\n",
       "    </tr>\n",
       "    <tr>\n",
       "      <th>Yavuz</th>\n",
       "      <td>45642</td>\n",
       "      <td>36168</td>\n",
       "      <td>81810</td>\n",
       "      <td>Fth</td>\n",
       "    </tr>\n",
       "  </tbody>\n",
       "</table>\n",
       "</div>"
      ],
      "text/plain": [
       "         2019   2020   2021 Yeni index\n",
       "Ahmet   35426  21150  56576        Alp\n",
       "Mehmet  16184  42713  58897        Yvz\n",
       "Yavuz   45642  36168  81810        Fth"
      ]
     },
     "execution_count": 49,
     "metadata": {},
     "output_type": "execute_result"
    }
   ],
   "source": [
    "yeniDataFrame"
   ]
  },
  {
   "cell_type": "code",
   "execution_count": 59,
   "id": "4852e462",
   "metadata": {},
   "outputs": [],
   "source": [
    "yeniDataFrame.set_index(\"Yeni index\",inplace=True)"
   ]
  },
  {
   "cell_type": "code",
   "execution_count": 60,
   "id": "f2b20d36",
   "metadata": {},
   "outputs": [
    {
     "data": {
      "text/html": [
       "<div>\n",
       "<style scoped>\n",
       "    .dataframe tbody tr th:only-of-type {\n",
       "        vertical-align: middle;\n",
       "    }\n",
       "\n",
       "    .dataframe tbody tr th {\n",
       "        vertical-align: top;\n",
       "    }\n",
       "\n",
       "    .dataframe thead th {\n",
       "        text-align: right;\n",
       "    }\n",
       "</style>\n",
       "<table border=\"1\" class=\"dataframe\">\n",
       "  <thead>\n",
       "    <tr style=\"text-align: right;\">\n",
       "      <th></th>\n",
       "      <th>2019</th>\n",
       "      <th>2020</th>\n",
       "      <th>2021</th>\n",
       "    </tr>\n",
       "    <tr>\n",
       "      <th>Yeni index</th>\n",
       "      <th></th>\n",
       "      <th></th>\n",
       "      <th></th>\n",
       "    </tr>\n",
       "  </thead>\n",
       "  <tbody>\n",
       "    <tr>\n",
       "      <th>Alp</th>\n",
       "      <td>35426</td>\n",
       "      <td>21150</td>\n",
       "      <td>56576</td>\n",
       "    </tr>\n",
       "    <tr>\n",
       "      <th>Yvz</th>\n",
       "      <td>16184</td>\n",
       "      <td>42713</td>\n",
       "      <td>58897</td>\n",
       "    </tr>\n",
       "    <tr>\n",
       "      <th>Fth</th>\n",
       "      <td>45642</td>\n",
       "      <td>36168</td>\n",
       "      <td>81810</td>\n",
       "    </tr>\n",
       "  </tbody>\n",
       "</table>\n",
       "</div>"
      ],
      "text/plain": [
       "             2019   2020   2021\n",
       "Yeni index                     \n",
       "Alp         35426  21150  56576\n",
       "Yvz         16184  42713  58897\n",
       "Fth         45642  36168  81810"
      ]
     },
     "execution_count": 60,
     "metadata": {},
     "output_type": "execute_result"
    }
   ],
   "source": [
    "yeniDataFrame\n",
    "\n"
   ]
  },
  {
   "cell_type": "code",
   "execution_count": 61,
   "id": "63e5b2cd",
   "metadata": {},
   "outputs": [],
   "source": [
    "ilkIndexler=[\"VAR\",\"VAR\",\"VAR\",\"DOĞAN\",\"DOĞAN\",\"DOĞAN\",\"YILMAZ\",\"YILMAZ\",\"YILMAZ\"]\n",
    "icIndexler=[\"Alperen\",\"Fatih\",\"Yavuz\",\"Tuba\",\"Büşra\",\"Furkan\",\"Hümeyra\",\"Enes\",\"Emre\"]\n",
    "birlesmisIndex=list(zip(ilkIndexler,icIndexler))\n"
   ]
  },
  {
   "cell_type": "code",
   "execution_count": 62,
   "id": "2aaf183a",
   "metadata": {},
   "outputs": [
    {
     "data": {
      "text/plain": [
       "[('VAR', 'Alperen'),\n",
       " ('VAR', 'Fatih'),\n",
       " ('VAR', 'Yavuz'),\n",
       " ('DOĞAN', 'Tuba'),\n",
       " ('DOĞAN', 'Büşra'),\n",
       " ('DOĞAN', 'Furkan'),\n",
       " ('YILMAZ', 'Hümeyra'),\n",
       " ('YILMAZ', 'Enes'),\n",
       " ('YILMAZ', 'Emre')]"
      ]
     },
     "execution_count": 62,
     "metadata": {},
     "output_type": "execute_result"
    }
   ],
   "source": [
    "birlesmisIndex"
   ]
  },
  {
   "cell_type": "code",
   "execution_count": 63,
   "id": "801ac4c5",
   "metadata": {},
   "outputs": [],
   "source": [
    "birlesmisIndex=pd.MultiIndex.from_tuples(birlesmisIndex)"
   ]
  },
  {
   "cell_type": "code",
   "execution_count": 64,
   "id": "f77732eb",
   "metadata": {},
   "outputs": [
    {
     "data": {
      "text/plain": [
       "MultiIndex([(   'VAR', 'Alperen'),\n",
       "            (   'VAR',   'Fatih'),\n",
       "            (   'VAR',   'Yavuz'),\n",
       "            ( 'DOĞAN',    'Tuba'),\n",
       "            ( 'DOĞAN',   'Büşra'),\n",
       "            ( 'DOĞAN',  'Furkan'),\n",
       "            ('YILMAZ', 'Hümeyra'),\n",
       "            ('YILMAZ',    'Enes'),\n",
       "            ('YILMAZ',    'Emre')],\n",
       "           )"
      ]
     },
     "execution_count": 64,
     "metadata": {},
     "output_type": "execute_result"
    }
   ],
   "source": [
    "birlesmisIndex"
   ]
  },
  {
   "cell_type": "code",
   "execution_count": 69,
   "id": "9514f27b",
   "metadata": {},
   "outputs": [],
   "source": [
    "yasMeslek=[[26,\"Müh\"],[21,\"Ö\"],[15,\"Ö\"],[34,\"Öğr\"],[30,\"Ev\"],[27,\"Bnk\"],[34,\"Öğr\"],[31,\"Kmr\"],[25,\"Ö\"]]"
   ]
  },
  {
   "cell_type": "code",
   "execution_count": 70,
   "id": "569b49b5",
   "metadata": {},
   "outputs": [],
   "source": [
    "yasMeslekNumpy=np.array(yasMeslek)"
   ]
  },
  {
   "cell_type": "code",
   "execution_count": 71,
   "id": "0e0632ae",
   "metadata": {},
   "outputs": [],
   "source": [
    "aileDataFrame=pd.DataFrame(yasMeslekNumpy,index=birlesmisIndex,columns=[\"yas\",\"meslek\"])"
   ]
  },
  {
   "cell_type": "code",
   "execution_count": 72,
   "id": "9649dc27",
   "metadata": {},
   "outputs": [
    {
     "data": {
      "text/html": [
       "<div>\n",
       "<style scoped>\n",
       "    .dataframe tbody tr th:only-of-type {\n",
       "        vertical-align: middle;\n",
       "    }\n",
       "\n",
       "    .dataframe tbody tr th {\n",
       "        vertical-align: top;\n",
       "    }\n",
       "\n",
       "    .dataframe thead th {\n",
       "        text-align: right;\n",
       "    }\n",
       "</style>\n",
       "<table border=\"1\" class=\"dataframe\">\n",
       "  <thead>\n",
       "    <tr style=\"text-align: right;\">\n",
       "      <th></th>\n",
       "      <th></th>\n",
       "      <th>yas</th>\n",
       "      <th>meslek</th>\n",
       "    </tr>\n",
       "  </thead>\n",
       "  <tbody>\n",
       "    <tr>\n",
       "      <th rowspan=\"3\" valign=\"top\">VAR</th>\n",
       "      <th>Alperen</th>\n",
       "      <td>26</td>\n",
       "      <td>Müh</td>\n",
       "    </tr>\n",
       "    <tr>\n",
       "      <th>Fatih</th>\n",
       "      <td>21</td>\n",
       "      <td>Ö</td>\n",
       "    </tr>\n",
       "    <tr>\n",
       "      <th>Yavuz</th>\n",
       "      <td>15</td>\n",
       "      <td>Ö</td>\n",
       "    </tr>\n",
       "    <tr>\n",
       "      <th rowspan=\"3\" valign=\"top\">DOĞAN</th>\n",
       "      <th>Tuba</th>\n",
       "      <td>34</td>\n",
       "      <td>Öğr</td>\n",
       "    </tr>\n",
       "    <tr>\n",
       "      <th>Büşra</th>\n",
       "      <td>30</td>\n",
       "      <td>Ev</td>\n",
       "    </tr>\n",
       "    <tr>\n",
       "      <th>Furkan</th>\n",
       "      <td>27</td>\n",
       "      <td>Bnk</td>\n",
       "    </tr>\n",
       "    <tr>\n",
       "      <th rowspan=\"3\" valign=\"top\">YILMAZ</th>\n",
       "      <th>Hümeyra</th>\n",
       "      <td>34</td>\n",
       "      <td>Öğr</td>\n",
       "    </tr>\n",
       "    <tr>\n",
       "      <th>Enes</th>\n",
       "      <td>31</td>\n",
       "      <td>Kmr</td>\n",
       "    </tr>\n",
       "    <tr>\n",
       "      <th>Emre</th>\n",
       "      <td>25</td>\n",
       "      <td>Ö</td>\n",
       "    </tr>\n",
       "  </tbody>\n",
       "</table>\n",
       "</div>"
      ],
      "text/plain": [
       "               yas meslek\n",
       "VAR    Alperen  26    Müh\n",
       "       Fatih    21      Ö\n",
       "       Yavuz    15      Ö\n",
       "DOĞAN  Tuba     34    Öğr\n",
       "       Büşra    30     Ev\n",
       "       Furkan   27    Bnk\n",
       "YILMAZ Hümeyra  34    Öğr\n",
       "       Enes     31    Kmr\n",
       "       Emre     25      Ö"
      ]
     },
     "execution_count": 72,
     "metadata": {},
     "output_type": "execute_result"
    }
   ],
   "source": [
    "aileDataFrame"
   ]
  },
  {
   "cell_type": "code",
   "execution_count": 75,
   "id": "d61cf927",
   "metadata": {},
   "outputs": [
    {
     "data": {
      "text/html": [
       "<div>\n",
       "<style scoped>\n",
       "    .dataframe tbody tr th:only-of-type {\n",
       "        vertical-align: middle;\n",
       "    }\n",
       "\n",
       "    .dataframe tbody tr th {\n",
       "        vertical-align: top;\n",
       "    }\n",
       "\n",
       "    .dataframe thead th {\n",
       "        text-align: right;\n",
       "    }\n",
       "</style>\n",
       "<table border=\"1\" class=\"dataframe\">\n",
       "  <thead>\n",
       "    <tr style=\"text-align: right;\">\n",
       "      <th></th>\n",
       "      <th>yas</th>\n",
       "      <th>meslek</th>\n",
       "    </tr>\n",
       "  </thead>\n",
       "  <tbody>\n",
       "    <tr>\n",
       "      <th>Alperen</th>\n",
       "      <td>26</td>\n",
       "      <td>Müh</td>\n",
       "    </tr>\n",
       "    <tr>\n",
       "      <th>Fatih</th>\n",
       "      <td>21</td>\n",
       "      <td>Ö</td>\n",
       "    </tr>\n",
       "    <tr>\n",
       "      <th>Yavuz</th>\n",
       "      <td>15</td>\n",
       "      <td>Ö</td>\n",
       "    </tr>\n",
       "  </tbody>\n",
       "</table>\n",
       "</div>"
      ],
      "text/plain": [
       "        yas meslek\n",
       "Alperen  26    Müh\n",
       "Fatih    21      Ö\n",
       "Yavuz    15      Ö"
      ]
     },
     "execution_count": 75,
     "metadata": {},
     "output_type": "execute_result"
    }
   ],
   "source": [
    "aileDataFrame.loc[\"VAR\"]"
   ]
  },
  {
   "cell_type": "code",
   "execution_count": 76,
   "id": "919a2147",
   "metadata": {},
   "outputs": [
    {
     "data": {
      "text/plain": [
       "yas        27\n",
       "meslek    Bnk\n",
       "Name: Furkan, dtype: object"
      ]
     },
     "execution_count": 76,
     "metadata": {},
     "output_type": "execute_result"
    }
   ],
   "source": [
    "aileDataFrame.loc[\"DOĞAN\"].loc[\"Furkan\"]"
   ]
  },
  {
   "cell_type": "code",
   "execution_count": 80,
   "id": "3b3e2396",
   "metadata": {},
   "outputs": [],
   "source": [
    "aileDataFrame.index.names=[\"Aile\",\"İsim\"]"
   ]
  },
  {
   "cell_type": "code",
   "execution_count": 81,
   "id": "4b9b7a4f",
   "metadata": {},
   "outputs": [
    {
     "data": {
      "text/html": [
       "<div>\n",
       "<style scoped>\n",
       "    .dataframe tbody tr th:only-of-type {\n",
       "        vertical-align: middle;\n",
       "    }\n",
       "\n",
       "    .dataframe tbody tr th {\n",
       "        vertical-align: top;\n",
       "    }\n",
       "\n",
       "    .dataframe thead th {\n",
       "        text-align: right;\n",
       "    }\n",
       "</style>\n",
       "<table border=\"1\" class=\"dataframe\">\n",
       "  <thead>\n",
       "    <tr style=\"text-align: right;\">\n",
       "      <th></th>\n",
       "      <th></th>\n",
       "      <th>yas</th>\n",
       "      <th>meslek</th>\n",
       "    </tr>\n",
       "    <tr>\n",
       "      <th>Aile</th>\n",
       "      <th>İsim</th>\n",
       "      <th></th>\n",
       "      <th></th>\n",
       "    </tr>\n",
       "  </thead>\n",
       "  <tbody>\n",
       "    <tr>\n",
       "      <th rowspan=\"3\" valign=\"top\">VAR</th>\n",
       "      <th>Alperen</th>\n",
       "      <td>26</td>\n",
       "      <td>Müh</td>\n",
       "    </tr>\n",
       "    <tr>\n",
       "      <th>Fatih</th>\n",
       "      <td>21</td>\n",
       "      <td>Ö</td>\n",
       "    </tr>\n",
       "    <tr>\n",
       "      <th>Yavuz</th>\n",
       "      <td>15</td>\n",
       "      <td>Ö</td>\n",
       "    </tr>\n",
       "    <tr>\n",
       "      <th rowspan=\"3\" valign=\"top\">DOĞAN</th>\n",
       "      <th>Tuba</th>\n",
       "      <td>34</td>\n",
       "      <td>Öğr</td>\n",
       "    </tr>\n",
       "    <tr>\n",
       "      <th>Büşra</th>\n",
       "      <td>30</td>\n",
       "      <td>Ev</td>\n",
       "    </tr>\n",
       "    <tr>\n",
       "      <th>Furkan</th>\n",
       "      <td>27</td>\n",
       "      <td>Bnk</td>\n",
       "    </tr>\n",
       "    <tr>\n",
       "      <th rowspan=\"3\" valign=\"top\">YILMAZ</th>\n",
       "      <th>Hümeyra</th>\n",
       "      <td>34</td>\n",
       "      <td>Öğr</td>\n",
       "    </tr>\n",
       "    <tr>\n",
       "      <th>Enes</th>\n",
       "      <td>31</td>\n",
       "      <td>Kmr</td>\n",
       "    </tr>\n",
       "    <tr>\n",
       "      <th>Emre</th>\n",
       "      <td>25</td>\n",
       "      <td>Ö</td>\n",
       "    </tr>\n",
       "  </tbody>\n",
       "</table>\n",
       "</div>"
      ],
      "text/plain": [
       "               yas meslek\n",
       "Aile   İsim              \n",
       "VAR    Alperen  26    Müh\n",
       "       Fatih    21      Ö\n",
       "       Yavuz    15      Ö\n",
       "DOĞAN  Tuba     34    Öğr\n",
       "       Büşra    30     Ev\n",
       "       Furkan   27    Bnk\n",
       "YILMAZ Hümeyra  34    Öğr\n",
       "       Enes     31    Kmr\n",
       "       Emre     25      Ö"
      ]
     },
     "execution_count": 81,
     "metadata": {},
     "output_type": "execute_result"
    }
   ],
   "source": [
    "aileDataFrame"
   ]
  },
  {
   "cell_type": "code",
   "execution_count": null,
   "id": "b4891ee0",
   "metadata": {},
   "outputs": [],
   "source": []
  }
 ],
 "metadata": {
  "kernelspec": {
   "display_name": "Python 3 (ipykernel)",
   "language": "python",
   "name": "python3"
  },
  "language_info": {
   "codemirror_mode": {
    "name": "ipython",
    "version": 3
   },
   "file_extension": ".py",
   "mimetype": "text/x-python",
   "name": "python",
   "nbconvert_exporter": "python",
   "pygments_lexer": "ipython3",
   "version": "3.10.9"
  }
 },
 "nbformat": 4,
 "nbformat_minor": 5
}
